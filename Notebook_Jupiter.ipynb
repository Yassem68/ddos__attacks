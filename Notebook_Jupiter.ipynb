{
 "cells": [
  {
   "cell_type": "markdown",
   "id": "0ff08765",
   "metadata": {},
   "source": [
    "# DDoS ATTACK DETECTION PROJECT\n",
    "This project simulates DDoS attacks and logs detected attacks to a CSV file. In this notebook, we will analyze the attack data and generate relevant insights."
   ]
  },
  {
   "cell_type": "code",
   "execution_count": 1,
   "id": "48286d35",
   "metadata": {},
   "outputs": [],
   "source": [
    "# Importing necessary libraries\n",
    "\n",
    "import pandas as pd  \n",
    "import matplotlib.pyplot as plt  \n",
    "import requests  \n",
    "from datetime import datetime  \n",
    "import cartopy.crs as ccrs  # For plotting geographical data\n",
    "import cartopy.feature as cfeature  \n",
    "import folium  # For creating interactive maps\n",
    "import seaborn as sns  # For advanced data visualization\n"
   ]
  },
  {
   "cell_type": "code",
   "execution_count": null,
   "id": "c29b24c6",
   "metadata": {},
   "outputs": [],
   "source": [
    "# Specify header=None to indicate that the CSV file has no headers\n",
    "df_attacks = pd.read_csv('C:/Users/fayc/OneDrive/Documents/GitHub/ddos__attacks/SniffnDetect/attack_log.csv', header=None)\n",
    "\n",
    "# Manually assign column names\n",
    "df_attacks.columns = ['Timestamp', 'Source IP', 'Destination IP', 'Attack Type', 'Packet Size']\n",
    "\n",
    "# Check the dataframe\n",
    "df_attacks.head()\n"
   ]
  },
  {
   "cell_type": "markdown",
   "id": "1cdd3d72",
   "metadata": {},
   "source": [
    "## Most Common Types of DDoS Attacks\n",
    "In this section, we will count and visualize the most common types of DDoS attacks in the log."
   ]
  },
  {
   "cell_type": "code",
   "execution_count": null,
   "id": "ceb069b8",
   "metadata": {},
   "outputs": [],
   "source": [
    "# Count the occurrences of each attack type\n",
    "attack_count = df_attacks['Attack Type'].value_counts()\n",
    "\n",
    "# Create a bar plot to visualize the most common types of DDoS attacks\n",
    "plt.figure(figsize=(10,6))  \n",
    "sns.barplot(x=attack_count.index, y=attack_count.values, palette='viridis')  # Use seaborn to plot a bar chart\n",
    "\n",
    "# Add labels and title to the plot\n",
    "plt.title('Most Common Types of DDoS Attacks')  \n",
    "plt.xlabel('Attack Type')  \n",
    "plt.ylabel('Count') \n",
    "plt.xticks(rotation=45)  \n",
    "\n",
    "plt.show()\n"
   ]
  },
  {
   "cell_type": "markdown",
   "id": "cd26f857",
   "metadata": {},
   "source": [
    "## Attack Locations by Source IP\n",
    "Next, we will use the `ip-api.com` API to get the geographical locations of the source IP addresses and display them on a map."
   ]
  },
  {
   "cell_type": "code",
   "execution_count": null,
   "id": "37ffd1b9",
   "metadata": {},
   "outputs": [],
   "source": [
    "# Function to get the geographical location of a given IP address using the ip-api.com API\n",
    "def get_ip_location(ip):\n",
    "    # Build the URL to request location data for the provided IP address\n",
    "    url = f'http://ip-api.com/json/{ip}'\n",
    "    try:\n",
    "        # Send a GET request to the API\n",
    "        response = requests.get(url)\n",
    "        \n",
    "        # Convert the response to JSON format\n",
    "        data = response.json()\n",
    "        \n",
    "        # Print the full response for debugging purposes (to see what the API returns)\n",
    "        print(f\"Response: {data}\")\n",
    "        \n",
    "        # If the API status is successful, return the latitude, longitude, city, and country\n",
    "        if data['status'] == 'success':\n",
    "            return data['lat'], data['lon'], data['city'], data['country']\n",
    "        else:\n",
    "            print(f\"Error: {data.get('message', 'No message')}\")\n",
    "            return None\n",
    "    except Exception as e:\n",
    "        print(f\"Exception occurred: {e}\")\n",
    "        return None\n",
    "\n",
    "example_ip = '4.4.4.4' \n",
    "\n",
    "# Get and print the location data for the IP\n",
    "location = get_ip_location(example_ip)\n",
    "print(location)\n"
   ]
  },
  {
   "cell_type": "markdown",
   "id": "2eaef0fd",
   "metadata": {},
   "source": [
    "## Visualization of Attack Origins on a Map\n",
    "We will plot the locations of attacks on an interactive map using `folium`."
   ]
  },
  {
   "cell_type": "code",
   "execution_count": null,
   "id": "2da87d84",
   "metadata": {},
   "outputs": [],
   "source": [
    "import time\n",
    "import ipaddress\n",
    "import folium\n",
    "\n",
    "# Function to check if an IP address is private (e.g., 192.168.x.x)\n",
    "def is_private_ip(ip):\n",
    "    try:\n",
    "        return ipaddress.ip_address(ip).is_private\n",
    "    except ValueError:\n",
    "        return False  # Handle invalid IP addresses\n",
    "\n",
    "# Set the center of the map\n",
    "map_center = [20, 0]\n",
    "attack_map = folium.Map(location=map_center, zoom_start=2)\n",
    "\n",
    "# Make sure the sample size doesn't exceed the number of rows in the DataFrame\n",
    "sample_size = min(len(df_attacks), 100)\n",
    "\n",
    "# Sample a random subset of the DataFrame (for example, up to 100 random entries)\n",
    "df_sample = df_attacks.sample(sample_size)\n",
    "\n",
    "# Loop through the sampled attack entries\n",
    "for index, row in df_sample.iterrows():\n",
    "    ip = row['Source IP']\n",
    "    \n",
    "    # Skip private IP addresses\n",
    "    if is_private_ip(ip):\n",
    "        print(f\"Skipping private IP: {ip}\")\n",
    "        continue\n",
    "    \n",
    "    # Fetch the IP's location using an API call\n",
    "    location = get_ip_location(ip)\n",
    "    \n",
    "    if location:\n",
    "        lat, lon, city, country = location\n",
    "        print(f\"Adding marker for {ip}: {lat}, {lon}, {city}, {country}\")\n",
    "        # Add a marker to the map\n",
    "        folium.Marker(location=[lat, lon], popup=f\"{ip} - {city}, {country}\").add_to(attack_map)\n",
    "    else:\n",
    "        print(f\"Failed to get location for IP: {ip}\")\n",
    "    \n",
    "    time.sleep(1)\n",
    "\n",
    "# Save the map as an HTML file\n",
    "attack_map.save('attack_map.html')\n",
    "attack_map\n"
   ]
  },
  {
   "cell_type": "markdown",
   "id": "ddc02738",
   "metadata": {},
   "source": [
    "## Attack Traffic Analysis\n",
    "Which attack type generated the most traffic based on packet size?"
   ]
  },
  {
   "cell_type": "code",
   "execution_count": null,
   "id": "7bdc10e7",
   "metadata": {},
   "outputs": [],
   "source": [
    "# Group by attack type and sum the packet sizes\n",
    "traffic_by_attack = df_attacks.groupby('Attack Type')['Packet Size'].sum()\n",
    "\n",
    "# Set the figure size and resolution (DPI)\n",
    "plt.figure(figsize=(8, 4), dpi=80)  # Smaller figure size and DPI to prevent large image\n",
    "\n",
    "# Create the bar plot\n",
    "sns.barplot(x=traffic_by_attack.index, y=traffic_by_attack.values, palette='Blues')\n",
    "\n",
    "# Add labels and title\n",
    "plt.title('Total Traffic Generated by Attack Types (Bytes)')\n",
    "plt.xlabel('Attack Type')\n",
    "plt.ylabel('Total Traffic in Bytes')\n",
    "plt.xticks(rotation=45)  # Rotate x-axis labels for better readability\n",
    "\n",
    "# Adjust the layout to fit the figure\n",
    "plt.tight_layout()\n",
    "\n",
    "# Display the plot\n",
    "plt.show()\n"
   ]
  }
 ],
 "metadata": {
  "kernelspec": {
   "display_name": "Python 3",
   "language": "python",
   "name": "python3"
  },
  "language_info": {
   "codemirror_mode": {
    "name": "ipython",
    "version": 3
   },
   "file_extension": ".py",
   "mimetype": "text/x-python",
   "name": "python",
   "nbconvert_exporter": "python",
   "pygments_lexer": "ipython3",
   "version": "3.12.7"
  }
 },
 "nbformat": 4,
 "nbformat_minor": 5
}
