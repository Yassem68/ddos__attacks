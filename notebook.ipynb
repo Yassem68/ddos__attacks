{
 "cells": [
  {
   "cell_type": "markdown",
   "metadata": {},
   "source": [
    "## Project - DOS Attack simulation and detection\n",
    "\n",
    "For this project, we will use the database to answer the questions in a Jupyter Notebook and provide detailed explanations for each response."
   ]
  }
 ],
 "metadata": {
  "language_info": {
   "name": "python"
  }
 },
 "nbformat": 4,
 "nbformat_minor": 2
}
